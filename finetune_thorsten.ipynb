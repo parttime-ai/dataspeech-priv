{
 "cells": [
  {
   "cell_type": "code",
   "id": "initial_id",
   "metadata": {
    "collapsed": true,
    "ExecuteTime": {
     "end_time": "2024-11-12T00:48:38.478390Z",
     "start_time": "2024-11-12T00:48:37.883720Z"
    }
   },
   "source": [
    "!git clone https://github.com/huggingface/dataspeech.git\n",
    "!cd dataspeech\n",
    "!pip install --quiet -r ./dataspeech/requirements.txt"
   ],
   "outputs": [
    {
     "name": "stdout",
     "output_type": "stream",
     "text": [
      "fatal: could not create work tree dir 'dataspeech': No such file or directory\r\n",
      "zsh:cd:1: no such file or directory: dataspeech\r\n",
      "The folder you are executing pip from can no longer be found.\r\n"
     ]
    }
   ],
   "execution_count": 16
  },
  {
   "metadata": {
    "ExecuteTime": {
     "end_time": "2024-11-12T00:58:52.385925Z",
     "start_time": "2024-11-12T00:58:52.375748Z"
    }
   },
   "cell_type": "code",
   "source": "%pwd",
   "id": "cf51545c415f1fe0",
   "outputs": [
    {
     "data": {
      "text/plain": [
       "'/Users/hienng/projects/Studium/Masterthesis/datasets/parler-tts'"
      ]
     },
     "execution_count": 11,
     "metadata": {},
     "output_type": "execute_result"
    }
   ],
   "execution_count": 11
  },
  {
   "metadata": {
    "ExecuteTime": {
     "end_time": "2024-11-12T00:59:01.539542Z",
     "start_time": "2024-11-12T00:59:01.412890Z"
    }
   },
   "cell_type": "code",
   "source": "%pip install --quiet -e .[train]",
   "id": "b39530ada2caaabe",
   "outputs": [
    {
     "name": "stdout",
     "output_type": "stream",
     "text": [
      "zsh:1: no matches found: .[train]\r\n",
      "Note: you may need to restart the kernel to use updated packages.\n"
     ]
    }
   ],
   "execution_count": 12
  },
  {
   "metadata": {
    "ExecuteTime": {
     "end_time": "2024-11-12T00:50:00.323813Z",
     "start_time": "2024-11-12T00:50:00.182975Z"
    }
   },
   "cell_type": "code",
   "source": [
    "!git clone https://github.com/huggingface/parler-tts.git\n",
    "# %cd parler-tts\n",
    "# !pip install --quiet -e . [train]"
   ],
   "id": "59975dd5e0a7be23",
   "outputs": [
    {
     "name": "stdout",
     "output_type": "stream",
     "text": [
      "fatal: could not create work tree dir 'parler-tts': No such file or directory\r\n"
     ]
    }
   ],
   "execution_count": 22
  },
  {
   "metadata": {
    "ExecuteTime": {
     "end_time": "2024-11-12T00:36:29.464973Z",
     "start_time": "2024-11-12T00:36:25.697602Z"
    }
   },
   "cell_type": "code",
   "source": "!pip install --upgrade protobuf wandb==0.16.6",
   "id": "62a4b2a897a639e2",
   "outputs": [
    {
     "name": "stdout",
     "output_type": "stream",
     "text": [
      "Requirement already satisfied: protobuf in /Users/hienng/miniconda3/envs/tts/lib/python3.11/site-packages (5.28.3)\r\n",
      "Collecting wandb==0.16.6\r\n",
      "  Downloading wandb-0.16.6-py3-none-any.whl.metadata (10 kB)\r\n",
      "Requirement already satisfied: Click!=8.0.0,>=7.1 in /Users/hienng/miniconda3/envs/tts/lib/python3.11/site-packages (from wandb==0.16.6) (8.1.7)\r\n",
      "Collecting GitPython!=3.1.29,>=1.0.0 (from wandb==0.16.6)\r\n",
      "  Using cached GitPython-3.1.43-py3-none-any.whl.metadata (13 kB)\r\n",
      "Requirement already satisfied: requests<3,>=2.0.0 in /Users/hienng/miniconda3/envs/tts/lib/python3.11/site-packages (from wandb==0.16.6) (2.32.3)\r\n",
      "Requirement already satisfied: psutil>=5.0.0 in /Users/hienng/miniconda3/envs/tts/lib/python3.11/site-packages (from wandb==0.16.6) (5.9.0)\r\n",
      "Collecting sentry-sdk>=1.0.0 (from wandb==0.16.6)\r\n",
      "  Downloading sentry_sdk-2.18.0-py2.py3-none-any.whl.metadata (9.9 kB)\r\n",
      "Collecting docker-pycreds>=0.4.0 (from wandb==0.16.6)\r\n",
      "  Using cached docker_pycreds-0.4.0-py2.py3-none-any.whl.metadata (1.8 kB)\r\n",
      "Requirement already satisfied: PyYAML in /Users/hienng/miniconda3/envs/tts/lib/python3.11/site-packages (from wandb==0.16.6) (6.0.2)\r\n",
      "Collecting setproctitle (from wandb==0.16.6)\r\n",
      "  Using cached setproctitle-1.3.3-cp311-cp311-macosx_10_9_universal2.whl.metadata (9.9 kB)\r\n",
      "Requirement already satisfied: setuptools in /Users/hienng/miniconda3/envs/tts/lib/python3.11/site-packages (from wandb==0.16.6) (75.1.0)\r\n",
      "Collecting appdirs>=1.4.3 (from wandb==0.16.6)\r\n",
      "  Downloading appdirs-1.4.4-py2.py3-none-any.whl.metadata (9.0 kB)\r\n",
      "Collecting protobuf\r\n",
      "  Downloading protobuf-4.25.5-cp37-abi3-macosx_10_9_universal2.whl.metadata (541 bytes)\r\n",
      "Requirement already satisfied: six>=1.4.0 in /Users/hienng/miniconda3/envs/tts/lib/python3.11/site-packages (from docker-pycreds>=0.4.0->wandb==0.16.6) (1.16.0)\r\n",
      "Collecting gitdb<5,>=4.0.1 (from GitPython!=3.1.29,>=1.0.0->wandb==0.16.6)\r\n",
      "  Using cached gitdb-4.0.11-py3-none-any.whl.metadata (1.2 kB)\r\n",
      "Requirement already satisfied: charset-normalizer<4,>=2 in /Users/hienng/miniconda3/envs/tts/lib/python3.11/site-packages (from requests<3,>=2.0.0->wandb==0.16.6) (3.3.2)\r\n",
      "Requirement already satisfied: idna<4,>=2.5 in /Users/hienng/miniconda3/envs/tts/lib/python3.11/site-packages (from requests<3,>=2.0.0->wandb==0.16.6) (3.7)\r\n",
      "Requirement already satisfied: urllib3<3,>=1.21.1 in /Users/hienng/miniconda3/envs/tts/lib/python3.11/site-packages (from requests<3,>=2.0.0->wandb==0.16.6) (2.2.3)\r\n",
      "Requirement already satisfied: certifi>=2017.4.17 in /Users/hienng/miniconda3/envs/tts/lib/python3.11/site-packages (from requests<3,>=2.0.0->wandb==0.16.6) (2024.8.30)\r\n",
      "Collecting smmap<6,>=3.0.1 (from gitdb<5,>=4.0.1->GitPython!=3.1.29,>=1.0.0->wandb==0.16.6)\r\n",
      "  Using cached smmap-5.0.1-py3-none-any.whl.metadata (4.3 kB)\r\n",
      "Downloading wandb-0.16.6-py3-none-any.whl (2.2 MB)\r\n",
      "\u001B[2K   \u001B[90m━━━━━━━━━━━━━━━━━━━━━━━━━━━━━━━━━━━━━━━━\u001B[0m \u001B[32m2.2/2.2 MB\u001B[0m \u001B[31m9.4 MB/s\u001B[0m eta \u001B[36m0:00:00\u001B[0ma \u001B[36m0:00:01\u001B[0m\r\n",
      "\u001B[?25hDownloading protobuf-4.25.5-cp37-abi3-macosx_10_9_universal2.whl (394 kB)\r\n",
      "Downloading appdirs-1.4.4-py2.py3-none-any.whl (9.6 kB)\r\n",
      "Using cached docker_pycreds-0.4.0-py2.py3-none-any.whl (9.0 kB)\r\n",
      "Using cached GitPython-3.1.43-py3-none-any.whl (207 kB)\r\n",
      "Downloading sentry_sdk-2.18.0-py2.py3-none-any.whl (317 kB)\r\n",
      "Using cached setproctitle-1.3.3-cp311-cp311-macosx_10_9_universal2.whl (16 kB)\r\n",
      "Using cached gitdb-4.0.11-py3-none-any.whl (62 kB)\r\n",
      "Using cached smmap-5.0.1-py3-none-any.whl (24 kB)\r\n",
      "Installing collected packages: appdirs, smmap, setproctitle, sentry-sdk, protobuf, docker-pycreds, gitdb, GitPython, wandb\r\n",
      "  Attempting uninstall: protobuf\r\n",
      "    Found existing installation: protobuf 5.28.3\r\n",
      "    Uninstalling protobuf-5.28.3:\r\n",
      "      Successfully uninstalled protobuf-5.28.3\r\n",
      "Successfully installed GitPython-3.1.43 appdirs-1.4.4 docker-pycreds-0.4.0 gitdb-4.0.11 protobuf-4.25.5 sentry-sdk-2.18.0 setproctitle-1.3.3 smmap-5.0.1 wandb-0.16.6\r\n"
     ]
    }
   ],
   "execution_count": 4
  },
  {
   "metadata": {
    "ExecuteTime": {
     "end_time": "2024-11-12T00:43:04.860643Z",
     "start_time": "2024-11-12T00:43:03.999458Z"
    }
   },
   "cell_type": "code",
   "source": "!pip install wandb",
   "id": "cca53c077943ef82",
   "outputs": [
    {
     "name": "stdout",
     "output_type": "stream",
     "text": [
      "Requirement already satisfied: wandb in /Users/hienng/miniconda3/envs/tts/lib/python3.11/site-packages (0.16.6)\r\n",
      "Requirement already satisfied: Click!=8.0.0,>=7.1 in /Users/hienng/miniconda3/envs/tts/lib/python3.11/site-packages (from wandb) (8.1.7)\r\n",
      "Requirement already satisfied: GitPython!=3.1.29,>=1.0.0 in /Users/hienng/miniconda3/envs/tts/lib/python3.11/site-packages (from wandb) (3.1.43)\r\n",
      "Requirement already satisfied: requests<3,>=2.0.0 in /Users/hienng/miniconda3/envs/tts/lib/python3.11/site-packages (from wandb) (2.32.3)\r\n",
      "Requirement already satisfied: psutil>=5.0.0 in /Users/hienng/miniconda3/envs/tts/lib/python3.11/site-packages (from wandb) (5.9.0)\r\n",
      "Requirement already satisfied: sentry-sdk>=1.0.0 in /Users/hienng/miniconda3/envs/tts/lib/python3.11/site-packages (from wandb) (2.18.0)\r\n",
      "Requirement already satisfied: docker-pycreds>=0.4.0 in /Users/hienng/miniconda3/envs/tts/lib/python3.11/site-packages (from wandb) (0.4.0)\r\n",
      "Requirement already satisfied: PyYAML in /Users/hienng/miniconda3/envs/tts/lib/python3.11/site-packages (from wandb) (6.0.2)\r\n",
      "Requirement already satisfied: setproctitle in /Users/hienng/miniconda3/envs/tts/lib/python3.11/site-packages (from wandb) (1.3.3)\r\n",
      "Requirement already satisfied: setuptools in /Users/hienng/miniconda3/envs/tts/lib/python3.11/site-packages (from wandb) (75.1.0)\r\n",
      "Requirement already satisfied: appdirs>=1.4.3 in /Users/hienng/miniconda3/envs/tts/lib/python3.11/site-packages (from wandb) (1.4.4)\r\n",
      "Requirement already satisfied: protobuf!=4.21.0,<5,>=3.19.0 in /Users/hienng/miniconda3/envs/tts/lib/python3.11/site-packages (from wandb) (4.25.5)\r\n",
      "Requirement already satisfied: six>=1.4.0 in /Users/hienng/miniconda3/envs/tts/lib/python3.11/site-packages (from docker-pycreds>=0.4.0->wandb) (1.16.0)\r\n",
      "Requirement already satisfied: gitdb<5,>=4.0.1 in /Users/hienng/miniconda3/envs/tts/lib/python3.11/site-packages (from GitPython!=3.1.29,>=1.0.0->wandb) (4.0.11)\r\n",
      "Requirement already satisfied: charset-normalizer<4,>=2 in /Users/hienng/miniconda3/envs/tts/lib/python3.11/site-packages (from requests<3,>=2.0.0->wandb) (3.3.2)\r\n",
      "Requirement already satisfied: idna<4,>=2.5 in /Users/hienng/miniconda3/envs/tts/lib/python3.11/site-packages (from requests<3,>=2.0.0->wandb) (3.7)\r\n",
      "Requirement already satisfied: urllib3<3,>=1.21.1 in /Users/hienng/miniconda3/envs/tts/lib/python3.11/site-packages (from requests<3,>=2.0.0->wandb) (2.2.3)\r\n",
      "Requirement already satisfied: certifi>=2017.4.17 in /Users/hienng/miniconda3/envs/tts/lib/python3.11/site-packages (from requests<3,>=2.0.0->wandb) (2024.8.30)\r\n",
      "Requirement already satisfied: smmap<6,>=3.0.1 in /Users/hienng/miniconda3/envs/tts/lib/python3.11/site-packages (from gitdb<5,>=4.0.1->GitPython!=3.1.29,>=1.0.0->wandb) (5.0.1)\r\n"
     ]
    }
   ],
   "execution_count": 7
  },
  {
   "metadata": {
    "ExecuteTime": {
     "end_time": "2024-11-12T01:11:47.657293Z",
     "start_time": "2024-11-12T01:11:44.504243Z"
    }
   },
   "cell_type": "code",
   "source": "!pip install wandb==0.17.2",
   "id": "204968a73b4ec990",
   "outputs": [
    {
     "name": "stdout",
     "output_type": "stream",
     "text": [
      "Collecting wandb==0.17.2\r\n",
      "  Downloading wandb-0.17.2-py3-none-macosx_11_0_arm64.whl.metadata (10 kB)\r\n",
      "Requirement already satisfied: click!=8.0.0,>=7.1 in /Users/hienng/miniconda3/envs/tts/lib/python3.11/site-packages (from wandb==0.17.2) (8.1.7)\r\n",
      "Requirement already satisfied: docker-pycreds>=0.4.0 in /Users/hienng/miniconda3/envs/tts/lib/python3.11/site-packages (from wandb==0.17.2) (0.4.0)\r\n",
      "Requirement already satisfied: gitpython!=3.1.29,>=1.0.0 in /Users/hienng/miniconda3/envs/tts/lib/python3.11/site-packages (from wandb==0.17.2) (3.1.43)\r\n",
      "Requirement already satisfied: platformdirs in /Users/hienng/miniconda3/envs/tts/lib/python3.11/site-packages (from wandb==0.17.2) (3.10.0)\r\n",
      "Requirement already satisfied: protobuf!=4.21.0,<6,>=3.19.0 in /Users/hienng/miniconda3/envs/tts/lib/python3.11/site-packages (from wandb==0.17.2) (4.25.5)\r\n",
      "Requirement already satisfied: psutil>=5.0.0 in /Users/hienng/miniconda3/envs/tts/lib/python3.11/site-packages (from wandb==0.17.2) (5.9.0)\r\n",
      "Requirement already satisfied: pyyaml in /Users/hienng/miniconda3/envs/tts/lib/python3.11/site-packages (from wandb==0.17.2) (6.0.2)\r\n",
      "Requirement already satisfied: requests<3,>=2.0.0 in /Users/hienng/miniconda3/envs/tts/lib/python3.11/site-packages (from wandb==0.17.2) (2.32.3)\r\n",
      "Requirement already satisfied: sentry-sdk>=1.0.0 in /Users/hienng/miniconda3/envs/tts/lib/python3.11/site-packages (from wandb==0.17.2) (2.18.0)\r\n",
      "Requirement already satisfied: setproctitle in /Users/hienng/miniconda3/envs/tts/lib/python3.11/site-packages (from wandb==0.17.2) (1.3.3)\r\n",
      "Requirement already satisfied: setuptools in /Users/hienng/miniconda3/envs/tts/lib/python3.11/site-packages (from wandb==0.17.2) (75.1.0)\r\n",
      "Requirement already satisfied: six>=1.4.0 in /Users/hienng/miniconda3/envs/tts/lib/python3.11/site-packages (from docker-pycreds>=0.4.0->wandb==0.17.2) (1.16.0)\r\n",
      "Requirement already satisfied: gitdb<5,>=4.0.1 in /Users/hienng/miniconda3/envs/tts/lib/python3.11/site-packages (from gitpython!=3.1.29,>=1.0.0->wandb==0.17.2) (4.0.11)\r\n",
      "Requirement already satisfied: charset-normalizer<4,>=2 in /Users/hienng/miniconda3/envs/tts/lib/python3.11/site-packages (from requests<3,>=2.0.0->wandb==0.17.2) (3.3.2)\r\n",
      "Requirement already satisfied: idna<4,>=2.5 in /Users/hienng/miniconda3/envs/tts/lib/python3.11/site-packages (from requests<3,>=2.0.0->wandb==0.17.2) (3.7)\r\n",
      "Requirement already satisfied: urllib3<3,>=1.21.1 in /Users/hienng/miniconda3/envs/tts/lib/python3.11/site-packages (from requests<3,>=2.0.0->wandb==0.17.2) (2.2.3)\r\n",
      "Requirement already satisfied: certifi>=2017.4.17 in /Users/hienng/miniconda3/envs/tts/lib/python3.11/site-packages (from requests<3,>=2.0.0->wandb==0.17.2) (2024.8.30)\r\n",
      "Requirement already satisfied: smmap<6,>=3.0.1 in /Users/hienng/miniconda3/envs/tts/lib/python3.11/site-packages (from gitdb<5,>=4.0.1->gitpython!=3.1.29,>=1.0.0->wandb==0.17.2) (5.0.1)\r\n",
      "Downloading wandb-0.17.2-py3-none-macosx_11_0_arm64.whl (6.8 MB)\r\n",
      "\u001B[2K   \u001B[90m━━━━━━━━━━━━━━━━━━━━━━━━━━━━━━━━━━━━━━━━\u001B[0m \u001B[32m6.8/6.8 MB\u001B[0m \u001B[31m8.5 MB/s\u001B[0m eta \u001B[36m0:00:00\u001B[0ma \u001B[36m0:00:01\u001B[0m\r\n",
      "\u001B[?25hInstalling collected packages: wandb\r\n",
      "  Attempting uninstall: wandb\r\n",
      "    Found existing installation: wandb 0.16.6\r\n",
      "    Uninstalling wandb-0.16.6:\r\n",
      "      Successfully uninstalled wandb-0.16.6\r\n",
      "Successfully installed wandb-0.17.2\r\n"
     ]
    }
   ],
   "execution_count": 34
  },
  {
   "metadata": {
    "ExecuteTime": {
     "end_time": "2024-11-12T01:10:58.634509Z",
     "start_time": "2024-11-12T01:10:58.630033Z"
    }
   },
   "cell_type": "code",
   "source": [
    "import numpy as np\n",
    "np.float_ = np.float64\n",
    "np.complex_ = np.complex128"
   ],
   "id": "7427c11a0d45282f",
   "outputs": [],
   "execution_count": 31
  },
  {
   "metadata": {
    "ExecuteTime": {
     "end_time": "2024-11-12T01:12:11.895030Z",
     "start_time": "2024-11-12T01:12:09.913196Z"
    }
   },
   "cell_type": "code",
   "source": [
    "import wandb\n",
    "from dotenv import load_dotenv\n",
    "import os\n",
    "\n",
    "load_dotenv()\n",
    "\n",
    "wandb.login(key=os.getenv(\"W_AND_B\"))"
   ],
   "id": "50f8e9f723268828",
   "outputs": [
    {
     "name": "stderr",
     "output_type": "stream",
     "text": [
      "\u001B[34m\u001B[1mwandb\u001B[0m: Currently logged in as: \u001B[33mteilzeitki\u001B[0m. Use \u001B[1m`wandb login --relogin`\u001B[0m to force relogin\n",
      "\u001B[34m\u001B[1mwandb\u001B[0m: \u001B[33mWARNING\u001B[0m If you're specifying your api key in code, ensure this code is not shared publicly.\n",
      "\u001B[34m\u001B[1mwandb\u001B[0m: \u001B[33mWARNING\u001B[0m Consider setting the WANDB_API_KEY environment variable, or running `wandb login` from the command line.\n",
      "\u001B[34m\u001B[1mwandb\u001B[0m: Appending key for api.wandb.ai to your netrc file: /Users/hienng/.netrc\n"
     ]
    },
    {
     "data": {
      "text/plain": [
       "True"
      ]
     },
     "execution_count": 1,
     "metadata": {},
     "output_type": "execute_result"
    }
   ],
   "execution_count": 1
  },
  {
   "metadata": {
    "ExecuteTime": {
     "end_time": "2024-11-12T01:12:55.056532Z",
     "start_time": "2024-11-12T01:12:55.050594Z"
    }
   },
   "cell_type": "code",
   "source": "%cd dataspeech",
   "id": "308e918ab3252be6",
   "outputs": [
    {
     "name": "stdout",
     "output_type": "stream",
     "text": [
      "/Users/hienng/projects/Studium/Masterthesis/datasets/dataspeech\n"
     ]
    },
    {
     "name": "stderr",
     "output_type": "stream",
     "text": [
      "/Users/hienng/miniconda3/envs/tts/lib/python3.11/site-packages/IPython/core/magics/osm.py:417: UserWarning: This is now an optional IPython functionality, setting dhist requires you to install the `pickleshare` library.\n",
      "  self.shell.db['dhist'] = compress_dhist(dhist)[-100:]\n"
     ]
    }
   ],
   "execution_count": 5
  },
  {
   "metadata": {
    "ExecuteTime": {
     "end_time": "2024-11-12T01:12:17.248791Z",
     "start_time": "2024-11-12T01:12:17.233083Z"
    }
   },
   "cell_type": "code",
   "source": [
    "\n",
    "# import libraries\n",
    "import dotenv\n",
    "import os\n",
    "\n",
    "# load environment variables\n",
    "dotenv.load_dotenv()\n",
    "\n",
    "hf = os.getenv(\"HF_TOKEN\")\n",
    "os.getenv(\"PHONEMIZER_ESPEAK_LIBRARY\")"
   ],
   "id": "8ae65ddb60320402",
   "outputs": [
    {
     "data": {
      "text/plain": [
       "'/opt/homebrew/Cellar/espeak/1.48.04_1/lib/libespeak.1.1.48.dylib'"
      ]
     },
     "execution_count": 2,
     "metadata": {},
     "output_type": "execute_result"
    }
   ],
   "execution_count": 2
  },
  {
   "metadata": {
    "ExecuteTime": {
     "end_time": "2024-11-12T01:08:44.434788Z",
     "start_time": "2024-11-12T01:08:34.526886Z"
    }
   },
   "cell_type": "code",
   "source": "!pip install -r requirements.txt --no-cache-dir",
   "id": "4359305e86b38ac3",
   "outputs": [
    {
     "name": "stdout",
     "output_type": "stream",
     "text": [
      "Collecting https://github.com/marianne-m/brouhaha-vad/archive/main.zip (from -r requirements.txt (line 2))\r\n",
      "  Downloading https://github.com/marianne-m/brouhaha-vad/archive/main.zip\r\n",
      "\u001B[2K     \u001B[32m/\u001B[0m \u001B[32m49.0 MB\u001B[0m \u001B[31m8.4 MB/s\u001B[0m \u001B[33m0:00:05\u001B[0mm\r\n",
      "\u001B[?25h  Preparing metadata (setup.py) ... \u001B[?25ldone\r\n",
      "\u001B[?25hRequirement already satisfied: penn in /Users/hienng/miniconda3/envs/tts/lib/python3.11/site-packages (from -r requirements.txt (line 3)) (0.0.14)\r\n",
      "Requirement already satisfied: g2p in /Users/hienng/miniconda3/envs/tts/lib/python3.11/site-packages (from -r requirements.txt (line 4)) (2.1.1)\r\n",
      "Requirement already satisfied: demucs in /Users/hienng/miniconda3/envs/tts/lib/python3.11/site-packages (from -r requirements.txt (line 5)) (4.0.1)\r\n",
      "Requirement already satisfied: transformers in /Users/hienng/miniconda3/envs/tts/lib/python3.11/site-packages (from -r requirements.txt (line 6)) (4.46.2)\r\n",
      "Requirement already satisfied: accelerate in /Users/hienng/miniconda3/envs/tts/lib/python3.11/site-packages (from -r requirements.txt (line 7)) (1.1.1)\r\n",
      "Requirement already satisfied: bitsandbytes in /Users/hienng/miniconda3/envs/tts/lib/python3.11/site-packages (from -r requirements.txt (line 8)) (0.42.0)\r\n",
      "Requirement already satisfied: datasets[audio] in /Users/hienng/miniconda3/envs/tts/lib/python3.11/site-packages (from -r requirements.txt (line 1)) (3.1.0)\r\n",
      "Requirement already satisfied: filelock in /Users/hienng/miniconda3/envs/tts/lib/python3.11/site-packages (from datasets[audio]->-r requirements.txt (line 1)) (3.16.1)\r\n",
      "Collecting numpy>=1.17 (from datasets[audio]->-r requirements.txt (line 1))\r\n",
      "  Downloading numpy-2.1.3-cp311-cp311-macosx_14_0_arm64.whl.metadata (62 kB)\r\n",
      "Requirement already satisfied: pyarrow>=15.0.0 in /Users/hienng/miniconda3/envs/tts/lib/python3.11/site-packages (from datasets[audio]->-r requirements.txt (line 1)) (18.0.0)\r\n",
      "Requirement already satisfied: dill<0.3.9,>=0.3.0 in /Users/hienng/miniconda3/envs/tts/lib/python3.11/site-packages (from datasets[audio]->-r requirements.txt (line 1)) (0.3.8)\r\n",
      "Requirement already satisfied: pandas in /Users/hienng/miniconda3/envs/tts/lib/python3.11/site-packages (from datasets[audio]->-r requirements.txt (line 1)) (2.2.3)\r\n",
      "Requirement already satisfied: requests>=2.32.2 in /Users/hienng/miniconda3/envs/tts/lib/python3.11/site-packages (from datasets[audio]->-r requirements.txt (line 1)) (2.32.3)\r\n",
      "Requirement already satisfied: tqdm>=4.66.3 in /Users/hienng/miniconda3/envs/tts/lib/python3.11/site-packages (from datasets[audio]->-r requirements.txt (line 1)) (4.67.0)\r\n",
      "Requirement already satisfied: xxhash in /Users/hienng/miniconda3/envs/tts/lib/python3.11/site-packages (from datasets[audio]->-r requirements.txt (line 1)) (3.5.0)\r\n",
      "Requirement already satisfied: multiprocess<0.70.17 in /Users/hienng/miniconda3/envs/tts/lib/python3.11/site-packages (from datasets[audio]->-r requirements.txt (line 1)) (0.70.16)\r\n",
      "Requirement already satisfied: fsspec<=2024.9.0,>=2023.1.0 in /Users/hienng/miniconda3/envs/tts/lib/python3.11/site-packages (from fsspec[http]<=2024.9.0,>=2023.1.0->datasets[audio]->-r requirements.txt (line 1)) (2024.9.0)\r\n",
      "Requirement already satisfied: aiohttp in /Users/hienng/miniconda3/envs/tts/lib/python3.11/site-packages (from datasets[audio]->-r requirements.txt (line 1)) (3.10.10)\r\n",
      "Requirement already satisfied: huggingface-hub>=0.23.0 in /Users/hienng/miniconda3/envs/tts/lib/python3.11/site-packages (from datasets[audio]->-r requirements.txt (line 1)) (0.26.2)\r\n",
      "Requirement already satisfied: packaging in /Users/hienng/miniconda3/envs/tts/lib/python3.11/site-packages (from datasets[audio]->-r requirements.txt (line 1)) (24.1)\r\n",
      "Requirement already satisfied: pyyaml>=5.1 in /Users/hienng/miniconda3/envs/tts/lib/python3.11/site-packages (from datasets[audio]->-r requirements.txt (line 1)) (6.0.2)\r\n",
      "Requirement already satisfied: soundfile>=0.12.1 in /Users/hienng/miniconda3/envs/tts/lib/python3.11/site-packages (from datasets[audio]->-r requirements.txt (line 1)) (0.12.1)\r\n",
      "Requirement already satisfied: librosa in /Users/hienng/miniconda3/envs/tts/lib/python3.11/site-packages (from datasets[audio]->-r requirements.txt (line 1)) (0.10.2.post1)\r\n",
      "Requirement already satisfied: soxr>=0.4.0 in /Users/hienng/miniconda3/envs/tts/lib/python3.11/site-packages (from datasets[audio]->-r requirements.txt (line 1)) (0.5.0.post1)\r\n",
      "Requirement already satisfied: pyannote.audio==3.2.0 in /Users/hienng/miniconda3/envs/tts/lib/python3.11/site-packages (from brouhaha==0.9.0->-r requirements.txt (line 2)) (3.2.0)\r\n",
      "Requirement already satisfied: asteroid-filterbanks>=0.4 in /Users/hienng/miniconda3/envs/tts/lib/python3.11/site-packages (from pyannote.audio==3.2.0->brouhaha==0.9.0->-r requirements.txt (line 2)) (0.4.0)\r\n",
      "Requirement already satisfied: einops>=0.6.0 in /Users/hienng/miniconda3/envs/tts/lib/python3.11/site-packages (from pyannote.audio==3.2.0->brouhaha==0.9.0->-r requirements.txt (line 2)) (0.8.0)\r\n",
      "Requirement already satisfied: lightning>=2.0.1 in /Users/hienng/miniconda3/envs/tts/lib/python3.11/site-packages (from pyannote.audio==3.2.0->brouhaha==0.9.0->-r requirements.txt (line 2)) (2.4.0)\r\n",
      "Requirement already satisfied: omegaconf<3.0,>=2.1 in /Users/hienng/miniconda3/envs/tts/lib/python3.11/site-packages (from pyannote.audio==3.2.0->brouhaha==0.9.0->-r requirements.txt (line 2)) (2.3.0)\r\n",
      "Requirement already satisfied: pyannote.core>=5.0.0 in /Users/hienng/miniconda3/envs/tts/lib/python3.11/site-packages (from pyannote.audio==3.2.0->brouhaha==0.9.0->-r requirements.txt (line 2)) (5.0.0)\r\n",
      "Requirement already satisfied: pyannote.database>=5.0.1 in /Users/hienng/miniconda3/envs/tts/lib/python3.11/site-packages (from pyannote.audio==3.2.0->brouhaha==0.9.0->-r requirements.txt (line 2)) (5.1.0)\r\n",
      "Requirement already satisfied: pyannote.metrics>=3.2 in /Users/hienng/miniconda3/envs/tts/lib/python3.11/site-packages (from pyannote.audio==3.2.0->brouhaha==0.9.0->-r requirements.txt (line 2)) (3.2.1)\r\n",
      "Requirement already satisfied: pyannote.pipeline>=3.0.1 in /Users/hienng/miniconda3/envs/tts/lib/python3.11/site-packages (from pyannote.audio==3.2.0->brouhaha==0.9.0->-r requirements.txt (line 2)) (3.0.1)\r\n",
      "Requirement already satisfied: pytorch-metric-learning>=2.1.0 in /Users/hienng/miniconda3/envs/tts/lib/python3.11/site-packages (from pyannote.audio==3.2.0->brouhaha==0.9.0->-r requirements.txt (line 2)) (2.7.0)\r\n",
      "Requirement already satisfied: rich>=12.0.0 in /Users/hienng/miniconda3/envs/tts/lib/python3.11/site-packages (from pyannote.audio==3.2.0->brouhaha==0.9.0->-r requirements.txt (line 2)) (13.9.4)\r\n",
      "Requirement already satisfied: semver>=3.0.0 in /Users/hienng/miniconda3/envs/tts/lib/python3.11/site-packages (from pyannote.audio==3.2.0->brouhaha==0.9.0->-r requirements.txt (line 2)) (3.0.2)\r\n",
      "Requirement already satisfied: speechbrain>=0.5.14 in /Users/hienng/miniconda3/envs/tts/lib/python3.11/site-packages (from pyannote.audio==3.2.0->brouhaha==0.9.0->-r requirements.txt (line 2)) (1.0.2)\r\n",
      "Requirement already satisfied: tensorboardX>=2.6 in /Users/hienng/miniconda3/envs/tts/lib/python3.11/site-packages (from pyannote.audio==3.2.0->brouhaha==0.9.0->-r requirements.txt (line 2)) (2.6.2.2)\r\n",
      "Requirement already satisfied: torch>=2.0.0 in /Users/hienng/miniconda3/envs/tts/lib/python3.11/site-packages (from pyannote.audio==3.2.0->brouhaha==0.9.0->-r requirements.txt (line 2)) (2.5.1)\r\n",
      "Requirement already satisfied: torch-audiomentations>=0.11.0 in /Users/hienng/miniconda3/envs/tts/lib/python3.11/site-packages (from pyannote.audio==3.2.0->brouhaha==0.9.0->-r requirements.txt (line 2)) (0.11.1)\r\n",
      "Requirement already satisfied: torchaudio>=2.2.0 in /Users/hienng/miniconda3/envs/tts/lib/python3.11/site-packages (from pyannote.audio==3.2.0->brouhaha==0.9.0->-r requirements.txt (line 2)) (2.5.1)\r\n",
      "Requirement already satisfied: torchmetrics>=0.11.0 in /Users/hienng/miniconda3/envs/tts/lib/python3.11/site-packages (from pyannote.audio==3.2.0->brouhaha==0.9.0->-r requirements.txt (line 2)) (1.5.2)\r\n",
      "Requirement already satisfied: torchutil in /Users/hienng/miniconda3/envs/tts/lib/python3.11/site-packages (from penn->-r requirements.txt (line 3)) (0.0.14)\r\n",
      "Requirement already satisfied: yapecs in /Users/hienng/miniconda3/envs/tts/lib/python3.11/site-packages (from penn->-r requirements.txt (line 3)) (0.0.8)\r\n",
      "Requirement already satisfied: click>=8.0.4 in /Users/hienng/miniconda3/envs/tts/lib/python3.11/site-packages (from g2p->-r requirements.txt (line 4)) (8.1.7)\r\n",
      "Requirement already satisfied: coloredlogs>=15.0.1 in /Users/hienng/miniconda3/envs/tts/lib/python3.11/site-packages (from g2p->-r requirements.txt (line 4)) (15.0.1)\r\n",
      "Requirement already satisfied: openpyxl in /Users/hienng/miniconda3/envs/tts/lib/python3.11/site-packages (from g2p->-r requirements.txt (line 4)) (3.1.5)\r\n",
      "Requirement already satisfied: panphon>=0.19 in /Users/hienng/miniconda3/envs/tts/lib/python3.11/site-packages (from g2p->-r requirements.txt (line 4)) (0.21.2)\r\n",
      "Requirement already satisfied: pydantic<2.9,>=2.4 in /Users/hienng/miniconda3/envs/tts/lib/python3.11/site-packages (from g2p->-r requirements.txt (line 4)) (2.8.2)\r\n",
      "Requirement already satisfied: regex in /Users/hienng/miniconda3/envs/tts/lib/python3.11/site-packages (from g2p->-r requirements.txt (line 4)) (2024.11.6)\r\n",
      "Requirement already satisfied: text-unidecode in /Users/hienng/miniconda3/envs/tts/lib/python3.11/site-packages (from g2p->-r requirements.txt (line 4)) (1.3)\r\n",
      "Requirement already satisfied: typing-extensions in /Users/hienng/miniconda3/envs/tts/lib/python3.11/site-packages (from g2p->-r requirements.txt (line 4)) (4.11.0)\r\n",
      "Requirement already satisfied: dora-search in /Users/hienng/miniconda3/envs/tts/lib/python3.11/site-packages (from demucs->-r requirements.txt (line 5)) (0.1.12)\r\n",
      "Requirement already satisfied: julius>=0.2.3 in /Users/hienng/miniconda3/envs/tts/lib/python3.11/site-packages (from demucs->-r requirements.txt (line 5)) (0.2.7)\r\n",
      "Requirement already satisfied: lameenc>=1.2 in /Users/hienng/miniconda3/envs/tts/lib/python3.11/site-packages (from demucs->-r requirements.txt (line 5)) (1.7.0)\r\n",
      "Requirement already satisfied: openunmix in /Users/hienng/miniconda3/envs/tts/lib/python3.11/site-packages (from demucs->-r requirements.txt (line 5)) (1.3.0)\r\n",
      "Requirement already satisfied: safetensors>=0.4.1 in /Users/hienng/miniconda3/envs/tts/lib/python3.11/site-packages (from transformers->-r requirements.txt (line 6)) (0.4.5)\r\n",
      "Requirement already satisfied: tokenizers<0.21,>=0.20 in /Users/hienng/miniconda3/envs/tts/lib/python3.11/site-packages (from transformers->-r requirements.txt (line 6)) (0.20.3)\r\n",
      "Requirement already satisfied: psutil in /Users/hienng/miniconda3/envs/tts/lib/python3.11/site-packages (from accelerate->-r requirements.txt (line 7)) (5.9.0)\r\n",
      "Requirement already satisfied: scipy in /Users/hienng/miniconda3/envs/tts/lib/python3.11/site-packages (from bitsandbytes->-r requirements.txt (line 8)) (1.14.1)\r\n",
      "Requirement already satisfied: humanfriendly>=9.1 in /Users/hienng/miniconda3/envs/tts/lib/python3.11/site-packages (from coloredlogs>=15.0.1->g2p->-r requirements.txt (line 4)) (10.0)\r\n",
      "Requirement already satisfied: aiohappyeyeballs>=2.3.0 in /Users/hienng/miniconda3/envs/tts/lib/python3.11/site-packages (from aiohttp->datasets[audio]->-r requirements.txt (line 1)) (2.4.3)\r\n",
      "Requirement already satisfied: aiosignal>=1.1.2 in /Users/hienng/miniconda3/envs/tts/lib/python3.11/site-packages (from aiohttp->datasets[audio]->-r requirements.txt (line 1)) (1.3.1)\r\n",
      "Requirement already satisfied: attrs>=17.3.0 in /Users/hienng/miniconda3/envs/tts/lib/python3.11/site-packages (from aiohttp->datasets[audio]->-r requirements.txt (line 1)) (24.2.0)\r\n",
      "Requirement already satisfied: frozenlist>=1.1.1 in /Users/hienng/miniconda3/envs/tts/lib/python3.11/site-packages (from aiohttp->datasets[audio]->-r requirements.txt (line 1)) (1.5.0)\r\n",
      "Requirement already satisfied: multidict<7.0,>=4.5 in /Users/hienng/miniconda3/envs/tts/lib/python3.11/site-packages (from aiohttp->datasets[audio]->-r requirements.txt (line 1)) (6.1.0)\r\n",
      "Requirement already satisfied: yarl<2.0,>=1.12.0 in /Users/hienng/miniconda3/envs/tts/lib/python3.11/site-packages (from aiohttp->datasets[audio]->-r requirements.txt (line 1)) (1.17.1)\r\n",
      "Requirement already satisfied: setuptools in /Users/hienng/miniconda3/envs/tts/lib/python3.11/site-packages (from panphon>=0.19->g2p->-r requirements.txt (line 4)) (75.1.0)\r\n",
      "Requirement already satisfied: unicodecsv in /Users/hienng/miniconda3/envs/tts/lib/python3.11/site-packages (from panphon>=0.19->g2p->-r requirements.txt (line 4)) (0.14.1)\r\n",
      "Requirement already satisfied: editdistance in /Users/hienng/miniconda3/envs/tts/lib/python3.11/site-packages (from panphon>=0.19->g2p->-r requirements.txt (line 4)) (0.8.1)\r\n",
      "Requirement already satisfied: munkres in /Users/hienng/miniconda3/envs/tts/lib/python3.11/site-packages (from panphon>=0.19->g2p->-r requirements.txt (line 4)) (1.1.4)\r\n",
      "Requirement already satisfied: annotated-types>=0.4.0 in /Users/hienng/miniconda3/envs/tts/lib/python3.11/site-packages (from pydantic<2.9,>=2.4->g2p->-r requirements.txt (line 4)) (0.7.0)\r\n",
      "Requirement already satisfied: pydantic-core==2.20.1 in /Users/hienng/miniconda3/envs/tts/lib/python3.11/site-packages (from pydantic<2.9,>=2.4->g2p->-r requirements.txt (line 4)) (2.20.1)\r\n",
      "Requirement already satisfied: charset-normalizer<4,>=2 in /Users/hienng/miniconda3/envs/tts/lib/python3.11/site-packages (from requests>=2.32.2->datasets[audio]->-r requirements.txt (line 1)) (3.3.2)\r\n",
      "Requirement already satisfied: idna<4,>=2.5 in /Users/hienng/miniconda3/envs/tts/lib/python3.11/site-packages (from requests>=2.32.2->datasets[audio]->-r requirements.txt (line 1)) (3.7)\r\n",
      "Requirement already satisfied: urllib3<3,>=1.21.1 in /Users/hienng/miniconda3/envs/tts/lib/python3.11/site-packages (from requests>=2.32.2->datasets[audio]->-r requirements.txt (line 1)) (2.2.3)\r\n",
      "Requirement already satisfied: certifi>=2017.4.17 in /Users/hienng/miniconda3/envs/tts/lib/python3.11/site-packages (from requests>=2.32.2->datasets[audio]->-r requirements.txt (line 1)) (2024.8.30)\r\n",
      "Requirement already satisfied: cffi>=1.0 in /Users/hienng/miniconda3/envs/tts/lib/python3.11/site-packages (from soundfile>=0.12.1->datasets[audio]->-r requirements.txt (line 1)) (1.17.1)\r\n",
      "Requirement already satisfied: networkx in /Users/hienng/miniconda3/envs/tts/lib/python3.11/site-packages (from torch>=2.0.0->pyannote.audio==3.2.0->brouhaha==0.9.0->-r requirements.txt (line 2)) (3.4.2)\r\n",
      "Requirement already satisfied: jinja2 in /Users/hienng/miniconda3/envs/tts/lib/python3.11/site-packages (from torch>=2.0.0->pyannote.audio==3.2.0->brouhaha==0.9.0->-r requirements.txt (line 2)) (3.1.4)\r\n",
      "Requirement already satisfied: sympy==1.13.1 in /Users/hienng/miniconda3/envs/tts/lib/python3.11/site-packages (from torch>=2.0.0->pyannote.audio==3.2.0->brouhaha==0.9.0->-r requirements.txt (line 2)) (1.13.1)\r\n",
      "Requirement already satisfied: mpmath<1.4,>=1.1.0 in /Users/hienng/miniconda3/envs/tts/lib/python3.11/site-packages (from sympy==1.13.1->torch>=2.0.0->pyannote.audio==3.2.0->brouhaha==0.9.0->-r requirements.txt (line 2)) (1.3.0)\r\n",
      "Requirement already satisfied: retrying in /Users/hienng/miniconda3/envs/tts/lib/python3.11/site-packages (from dora-search->demucs->-r requirements.txt (line 5)) (1.3.4)\r\n",
      "Requirement already satisfied: submitit in /Users/hienng/miniconda3/envs/tts/lib/python3.11/site-packages (from dora-search->demucs->-r requirements.txt (line 5)) (1.5.2)\r\n",
      "Requirement already satisfied: treetable in /Users/hienng/miniconda3/envs/tts/lib/python3.11/site-packages (from dora-search->demucs->-r requirements.txt (line 5)) (0.2.5)\r\n",
      "Requirement already satisfied: audioread>=2.1.9 in /Users/hienng/miniconda3/envs/tts/lib/python3.11/site-packages (from librosa->datasets[audio]->-r requirements.txt (line 1)) (3.0.1)\r\n",
      "Requirement already satisfied: scikit-learn>=0.20.0 in /Users/hienng/miniconda3/envs/tts/lib/python3.11/site-packages (from librosa->datasets[audio]->-r requirements.txt (line 1)) (1.5.2)\r\n",
      "Requirement already satisfied: joblib>=0.14 in /Users/hienng/miniconda3/envs/tts/lib/python3.11/site-packages (from librosa->datasets[audio]->-r requirements.txt (line 1)) (1.4.2)\r\n",
      "Requirement already satisfied: decorator>=4.3.0 in /Users/hienng/miniconda3/envs/tts/lib/python3.11/site-packages (from librosa->datasets[audio]->-r requirements.txt (line 1)) (5.1.1)\r\n",
      "Requirement already satisfied: numba>=0.51.0 in /Users/hienng/miniconda3/envs/tts/lib/python3.11/site-packages (from librosa->datasets[audio]->-r requirements.txt (line 1)) (0.60.0)\r\n",
      "Requirement already satisfied: pooch>=1.1 in /Users/hienng/miniconda3/envs/tts/lib/python3.11/site-packages (from librosa->datasets[audio]->-r requirements.txt (line 1)) (1.8.2)\r\n",
      "Requirement already satisfied: lazy-loader>=0.1 in /Users/hienng/miniconda3/envs/tts/lib/python3.11/site-packages (from librosa->datasets[audio]->-r requirements.txt (line 1)) (0.4)\r\n",
      "Requirement already satisfied: msgpack>=1.0 in /Users/hienng/miniconda3/envs/tts/lib/python3.11/site-packages (from librosa->datasets[audio]->-r requirements.txt (line 1)) (1.1.0)\r\n",
      "Requirement already satisfied: et-xmlfile in /Users/hienng/miniconda3/envs/tts/lib/python3.11/site-packages (from openpyxl->g2p->-r requirements.txt (line 4)) (2.0.0)\r\n",
      "Requirement already satisfied: python-dateutil>=2.8.2 in /Users/hienng/miniconda3/envs/tts/lib/python3.11/site-packages (from pandas->datasets[audio]->-r requirements.txt (line 1)) (2.9.0.post0)\r\n",
      "Requirement already satisfied: pytz>=2020.1 in /Users/hienng/miniconda3/envs/tts/lib/python3.11/site-packages (from pandas->datasets[audio]->-r requirements.txt (line 1)) (2024.1)\r\n",
      "Requirement already satisfied: tzdata>=2022.7 in /Users/hienng/miniconda3/envs/tts/lib/python3.11/site-packages (from pandas->datasets[audio]->-r requirements.txt (line 1)) (2024.2)\r\n",
      "Requirement already satisfied: apprise in /Users/hienng/miniconda3/envs/tts/lib/python3.11/site-packages (from torchutil->penn->-r requirements.txt (line 3)) (1.9.0)\r\n",
      "Requirement already satisfied: tensorboard in /Users/hienng/miniconda3/envs/tts/lib/python3.11/site-packages (from torchutil->penn->-r requirements.txt (line 3)) (2.18.0)\r\n",
      "Requirement already satisfied: pycparser in /Users/hienng/miniconda3/envs/tts/lib/python3.11/site-packages (from cffi>=1.0->soundfile>=0.12.1->datasets[audio]->-r requirements.txt (line 1)) (2.21)\r\n",
      "Requirement already satisfied: lightning-utilities<2.0,>=0.10.0 in /Users/hienng/miniconda3/envs/tts/lib/python3.11/site-packages (from lightning>=2.0.1->pyannote.audio==3.2.0->brouhaha==0.9.0->-r requirements.txt (line 2)) (0.11.8)\r\n",
      "Requirement already satisfied: pytorch-lightning in /Users/hienng/miniconda3/envs/tts/lib/python3.11/site-packages (from lightning>=2.0.1->pyannote.audio==3.2.0->brouhaha==0.9.0->-r requirements.txt (line 2)) (2.4.0)\r\n",
      "Requirement already satisfied: llvmlite<0.44,>=0.43.0dev0 in /Users/hienng/miniconda3/envs/tts/lib/python3.11/site-packages (from numba>=0.51.0->librosa->datasets[audio]->-r requirements.txt (line 1)) (0.43.0)\r\n",
      "  Downloading numpy-2.0.2-cp311-cp311-macosx_14_0_arm64.whl.metadata (60 kB)\r\n",
      "Requirement already satisfied: antlr4-python3-runtime==4.9.* in /Users/hienng/miniconda3/envs/tts/lib/python3.11/site-packages (from omegaconf<3.0,>=2.1->pyannote.audio==3.2.0->brouhaha==0.9.0->-r requirements.txt (line 2)) (4.9.3)\r\n",
      "Requirement already satisfied: platformdirs>=2.5.0 in /Users/hienng/miniconda3/envs/tts/lib/python3.11/site-packages (from pooch>=1.1->librosa->datasets[audio]->-r requirements.txt (line 1)) (3.10.0)\r\n",
      "Requirement already satisfied: sortedcontainers>=2.0.4 in /Users/hienng/miniconda3/envs/tts/lib/python3.11/site-packages (from pyannote.core>=5.0.0->pyannote.audio==3.2.0->brouhaha==0.9.0->-r requirements.txt (line 2)) (2.4.0)\r\n",
      "Requirement already satisfied: typer>=0.12.1 in /Users/hienng/miniconda3/envs/tts/lib/python3.11/site-packages (from pyannote.database>=5.0.1->pyannote.audio==3.2.0->brouhaha==0.9.0->-r requirements.txt (line 2)) (0.13.0)\r\n",
      "Requirement already satisfied: docopt>=0.6.2 in /Users/hienng/miniconda3/envs/tts/lib/python3.11/site-packages (from pyannote.metrics>=3.2->pyannote.audio==3.2.0->brouhaha==0.9.0->-r requirements.txt (line 2)) (0.6.2)\r\n",
      "Requirement already satisfied: tabulate>=0.7.7 in /Users/hienng/miniconda3/envs/tts/lib/python3.11/site-packages (from pyannote.metrics>=3.2->pyannote.audio==3.2.0->brouhaha==0.9.0->-r requirements.txt (line 2)) (0.9.0)\r\n",
      "Requirement already satisfied: matplotlib>=2.0.0 in /Users/hienng/miniconda3/envs/tts/lib/python3.11/site-packages (from pyannote.metrics>=3.2->pyannote.audio==3.2.0->brouhaha==0.9.0->-r requirements.txt (line 2)) (3.9.2)\r\n",
      "Requirement already satisfied: optuna>=3.1 in /Users/hienng/miniconda3/envs/tts/lib/python3.11/site-packages (from pyannote.pipeline>=3.0.1->pyannote.audio==3.2.0->brouhaha==0.9.0->-r requirements.txt (line 2)) (4.0.0)\r\n",
      "Requirement already satisfied: six>=1.5 in /Users/hienng/miniconda3/envs/tts/lib/python3.11/site-packages (from python-dateutil>=2.8.2->pandas->datasets[audio]->-r requirements.txt (line 1)) (1.16.0)\r\n",
      "Requirement already satisfied: markdown-it-py>=2.2.0 in /Users/hienng/miniconda3/envs/tts/lib/python3.11/site-packages (from rich>=12.0.0->pyannote.audio==3.2.0->brouhaha==0.9.0->-r requirements.txt (line 2)) (3.0.0)\r\n",
      "Requirement already satisfied: pygments<3.0.0,>=2.13.0 in /Users/hienng/miniconda3/envs/tts/lib/python3.11/site-packages (from rich>=12.0.0->pyannote.audio==3.2.0->brouhaha==0.9.0->-r requirements.txt (line 2)) (2.15.1)\r\n",
      "Requirement already satisfied: threadpoolctl>=3.1.0 in /Users/hienng/miniconda3/envs/tts/lib/python3.11/site-packages (from scikit-learn>=0.20.0->librosa->datasets[audio]->-r requirements.txt (line 1)) (3.5.0)\r\n",
      "Requirement already satisfied: hyperpyyaml in /Users/hienng/miniconda3/envs/tts/lib/python3.11/site-packages (from speechbrain>=0.5.14->pyannote.audio==3.2.0->brouhaha==0.9.0->-r requirements.txt (line 2)) (1.2.2)\r\n",
      "Requirement already satisfied: sentencepiece in /Users/hienng/miniconda3/envs/tts/lib/python3.11/site-packages (from speechbrain>=0.5.14->pyannote.audio==3.2.0->brouhaha==0.9.0->-r requirements.txt (line 2)) (0.2.0)\r\n",
      "Requirement already satisfied: protobuf>=3.20 in /Users/hienng/miniconda3/envs/tts/lib/python3.11/site-packages (from tensorboardX>=2.6->pyannote.audio==3.2.0->brouhaha==0.9.0->-r requirements.txt (line 2)) (4.25.5)\r\n",
      "Requirement already satisfied: torch-pitch-shift>=1.2.2 in /Users/hienng/miniconda3/envs/tts/lib/python3.11/site-packages (from torch-audiomentations>=0.11.0->pyannote.audio==3.2.0->brouhaha==0.9.0->-r requirements.txt (line 2)) (1.2.5)\r\n",
      "Requirement already satisfied: propcache>=0.2.0 in /Users/hienng/miniconda3/envs/tts/lib/python3.11/site-packages (from yarl<2.0,>=1.12.0->aiohttp->datasets[audio]->-r requirements.txt (line 1)) (0.2.0)\r\n",
      "Requirement already satisfied: requests-oauthlib in /Users/hienng/miniconda3/envs/tts/lib/python3.11/site-packages (from apprise->torchutil->penn->-r requirements.txt (line 3)) (2.0.0)\r\n",
      "Requirement already satisfied: markdown in /Users/hienng/miniconda3/envs/tts/lib/python3.11/site-packages (from apprise->torchutil->penn->-r requirements.txt (line 3)) (3.7)\r\n",
      "Requirement already satisfied: MarkupSafe>=2.0 in /Users/hienng/miniconda3/envs/tts/lib/python3.11/site-packages (from jinja2->torch>=2.0.0->pyannote.audio==3.2.0->brouhaha==0.9.0->-r requirements.txt (line 2)) (2.1.3)\r\n",
      "Requirement already satisfied: cloudpickle>=1.2.1 in /Users/hienng/miniconda3/envs/tts/lib/python3.11/site-packages (from submitit->dora-search->demucs->-r requirements.txt (line 5)) (3.1.0)\r\n",
      "Requirement already satisfied: absl-py>=0.4 in /Users/hienng/miniconda3/envs/tts/lib/python3.11/site-packages (from tensorboard->torchutil->penn->-r requirements.txt (line 3)) (2.1.0)\r\n",
      "Requirement already satisfied: grpcio>=1.48.2 in /Users/hienng/miniconda3/envs/tts/lib/python3.11/site-packages (from tensorboard->torchutil->penn->-r requirements.txt (line 3)) (1.67.1)\r\n",
      "Requirement already satisfied: tensorboard-data-server<0.8.0,>=0.7.0 in /Users/hienng/miniconda3/envs/tts/lib/python3.11/site-packages (from tensorboard->torchutil->penn->-r requirements.txt (line 3)) (0.7.2)\r\n",
      "Requirement already satisfied: werkzeug>=1.0.1 in /Users/hienng/miniconda3/envs/tts/lib/python3.11/site-packages (from tensorboard->torchutil->penn->-r requirements.txt (line 3)) (3.1.3)\r\n",
      "Requirement already satisfied: mdurl~=0.1 in /Users/hienng/miniconda3/envs/tts/lib/python3.11/site-packages (from markdown-it-py>=2.2.0->rich>=12.0.0->pyannote.audio==3.2.0->brouhaha==0.9.0->-r requirements.txt (line 2)) (0.1.2)\r\n",
      "Requirement already satisfied: contourpy>=1.0.1 in /Users/hienng/miniconda3/envs/tts/lib/python3.11/site-packages (from matplotlib>=2.0.0->pyannote.metrics>=3.2->pyannote.audio==3.2.0->brouhaha==0.9.0->-r requirements.txt (line 2)) (1.3.0)\r\n",
      "Requirement already satisfied: cycler>=0.10 in /Users/hienng/miniconda3/envs/tts/lib/python3.11/site-packages (from matplotlib>=2.0.0->pyannote.metrics>=3.2->pyannote.audio==3.2.0->brouhaha==0.9.0->-r requirements.txt (line 2)) (0.12.1)\r\n",
      "Requirement already satisfied: fonttools>=4.22.0 in /Users/hienng/miniconda3/envs/tts/lib/python3.11/site-packages (from matplotlib>=2.0.0->pyannote.metrics>=3.2->pyannote.audio==3.2.0->brouhaha==0.9.0->-r requirements.txt (line 2)) (4.54.1)\r\n",
      "Requirement already satisfied: kiwisolver>=1.3.1 in /Users/hienng/miniconda3/envs/tts/lib/python3.11/site-packages (from matplotlib>=2.0.0->pyannote.metrics>=3.2->pyannote.audio==3.2.0->brouhaha==0.9.0->-r requirements.txt (line 2)) (1.4.7)\r\n",
      "Requirement already satisfied: pillow>=8 in /Users/hienng/miniconda3/envs/tts/lib/python3.11/site-packages (from matplotlib>=2.0.0->pyannote.metrics>=3.2->pyannote.audio==3.2.0->brouhaha==0.9.0->-r requirements.txt (line 2)) (11.0.0)\r\n",
      "Requirement already satisfied: pyparsing>=2.3.1 in /Users/hienng/miniconda3/envs/tts/lib/python3.11/site-packages (from matplotlib>=2.0.0->pyannote.metrics>=3.2->pyannote.audio==3.2.0->brouhaha==0.9.0->-r requirements.txt (line 2)) (3.2.0)\r\n",
      "Requirement already satisfied: alembic>=1.5.0 in /Users/hienng/miniconda3/envs/tts/lib/python3.11/site-packages (from optuna>=3.1->pyannote.pipeline>=3.0.1->pyannote.audio==3.2.0->brouhaha==0.9.0->-r requirements.txt (line 2)) (1.14.0)\r\n",
      "Requirement already satisfied: colorlog in /Users/hienng/miniconda3/envs/tts/lib/python3.11/site-packages (from optuna>=3.1->pyannote.pipeline>=3.0.1->pyannote.audio==3.2.0->brouhaha==0.9.0->-r requirements.txt (line 2)) (6.9.0)\r\n",
      "Requirement already satisfied: sqlalchemy>=1.3.0 in /Users/hienng/miniconda3/envs/tts/lib/python3.11/site-packages (from optuna>=3.1->pyannote.pipeline>=3.0.1->pyannote.audio==3.2.0->brouhaha==0.9.0->-r requirements.txt (line 2)) (2.0.36)\r\n",
      "Requirement already satisfied: primePy>=1.3 in /Users/hienng/miniconda3/envs/tts/lib/python3.11/site-packages (from torch-pitch-shift>=1.2.2->torch-audiomentations>=0.11.0->pyannote.audio==3.2.0->brouhaha==0.9.0->-r requirements.txt (line 2)) (1.3)\r\n",
      "Requirement already satisfied: shellingham>=1.3.0 in /Users/hienng/miniconda3/envs/tts/lib/python3.11/site-packages (from typer>=0.12.1->pyannote.database>=5.0.1->pyannote.audio==3.2.0->brouhaha==0.9.0->-r requirements.txt (line 2)) (1.5.4)\r\n",
      "Requirement already satisfied: ruamel.yaml>=0.17.28 in /Users/hienng/miniconda3/envs/tts/lib/python3.11/site-packages (from hyperpyyaml->speechbrain>=0.5.14->pyannote.audio==3.2.0->brouhaha==0.9.0->-r requirements.txt (line 2)) (0.18.6)\r\n",
      "Requirement already satisfied: oauthlib>=3.0.0 in /Users/hienng/miniconda3/envs/tts/lib/python3.11/site-packages (from requests-oauthlib->apprise->torchutil->penn->-r requirements.txt (line 3)) (3.2.2)\r\n",
      "Requirement already satisfied: Mako in /Users/hienng/miniconda3/envs/tts/lib/python3.11/site-packages (from alembic>=1.5.0->optuna>=3.1->pyannote.pipeline>=3.0.1->pyannote.audio==3.2.0->brouhaha==0.9.0->-r requirements.txt (line 2)) (1.3.6)\r\n",
      "Requirement already satisfied: ruamel.yaml.clib>=0.2.7 in /Users/hienng/miniconda3/envs/tts/lib/python3.11/site-packages (from ruamel.yaml>=0.17.28->hyperpyyaml->speechbrain>=0.5.14->pyannote.audio==3.2.0->brouhaha==0.9.0->-r requirements.txt (line 2)) (0.2.12)\r\n",
      "Downloading numpy-2.0.2-cp311-cp311-macosx_14_0_arm64.whl (5.3 MB)\r\n",
      "\u001B[2K   \u001B[90m━━━━━━━━━━━━━━━━━━━━━━━━━━━━━━━━━━━━━━━━\u001B[0m \u001B[32m5.3/5.3 MB\u001B[0m \u001B[31m12.6 MB/s\u001B[0m eta \u001B[36m0:00:00\u001B[0ma \u001B[36m0:00:01\u001B[0m\r\n",
      "\u001B[?25hInstalling collected packages: numpy\r\n",
      "Successfully installed numpy-2.0.2\r\n"
     ]
    }
   ],
   "execution_count": 27
  },
  {
   "metadata": {
    "ExecuteTime": {
     "end_time": "2024-11-12T01:14:27.653650Z",
     "start_time": "2024-11-12T01:14:25.047412Z"
    }
   },
   "cell_type": "code",
   "source": "!pip install numpy==1.26.4",
   "id": "81b6fb945f44a3fd",
   "outputs": [
    {
     "name": "stdout",
     "output_type": "stream",
     "text": [
      "Collecting numpy==1.26.4\r\n",
      "  Using cached numpy-1.26.4-cp311-cp311-macosx_11_0_arm64.whl.metadata (114 kB)\r\n",
      "Using cached numpy-1.26.4-cp311-cp311-macosx_11_0_arm64.whl (14.0 MB)\r\n",
      "Installing collected packages: numpy\r\n",
      "  Attempting uninstall: numpy\r\n",
      "    Found existing installation: numpy 2.0.2\r\n",
      "    Uninstalling numpy-2.0.2:\r\n",
      "      Successfully uninstalled numpy-2.0.2\r\n",
      "Successfully installed numpy-1.26.4\r\n"
     ]
    }
   ],
   "execution_count": 11
  },
  {
   "metadata": {
    "ExecuteTime": {
     "end_time": "2024-11-12T01:15:35.135712Z",
     "start_time": "2024-11-12T01:15:35.106396Z"
    }
   },
   "cell_type": "code",
   "source": "dataset",
   "id": "4f1ec4b426ba4aad",
   "outputs": [
    {
     "ename": "NameError",
     "evalue": "name 'dataset' is not defined",
     "output_type": "error",
     "traceback": [
      "\u001B[0;31m---------------------------------------------------------------------------\u001B[0m",
      "\u001B[0;31mNameError\u001B[0m                                 Traceback (most recent call last)",
      "Cell \u001B[0;32mIn[13], line 1\u001B[0m\n\u001B[0;32m----> 1\u001B[0m dataset\n",
      "\u001B[0;31mNameError\u001B[0m: name 'dataset' is not defined"
     ]
    }
   ],
   "execution_count": 13
  },
  {
   "metadata": {
    "ExecuteTime": {
     "end_time": "2024-11-12T21:53:45.802856Z",
     "start_time": "2024-11-12T21:53:17.164282Z"
    }
   },
   "cell_type": "code",
   "source": [
    "!python main.py \"hienng/thorsten-dataset\" \\\n",
    "  --configuration \"default\" \\\n",
    "  --text_column_name \"transcript\" \\\n",
    "  --audio_column_name \"audio_path\" \\\n",
    "  --cpu_num_workers 2 \\\n",
    "  --num_workers_per_gpu_for_pitch 2 \\\n",
    "  --rename_column \\\n",
    "  --repo_id \"thorsten-dataset\" \\\n",
    "  --apply_squim_quality_estimation"
   ],
   "id": "d0b874749f4fceb2",
   "outputs": [
    {
     "name": "stderr",
     "output_type": "stream",
     "text": [
      "python(40938) MallocStackLogging: can't turn off malloc stack logging because it was not enabled.\n"
     ]
    },
    {
     "name": "stdout",
     "output_type": "stream",
     "text": [
      "INFO:speechbrain.utils.quirks:Applied quirks (see `speechbrain.utils.quirks`): [allow_tf32, disable_jit_profiling]\r\n",
      "INFO:speechbrain.utils.quirks:Excluded quirks specified by the `SB_DISABLE_QUIRKS` environment (comma-separated list): []\r\n",
      "/Users/hienng/miniconda3/envs/tts/lib/python3.11/site-packages/pyannote/audio/pipelines/speaker_verification.py:43: UserWarning: Module 'speechbrain.pretrained' was deprecated, redirecting to 'speechbrain.inference'. Please update your script. This is a change from SpeechBrain 1.0. See: https://github.com/speechbrain/speechbrain/releases/tag/v1.0.0\r\n",
      "  from speechbrain.pretrained import (\r\n",
      "Compute SI-SDR, PESQ, STOI\r\n",
      "Map (num_proc=2):   0%|                        | 0/36422 [00:00<?, ? examples/s]INFO:speechbrain.utils.quirks:Applied quirks (see `speechbrain.utils.quirks`): [disable_jit_profiling, allow_tf32]\r\n",
      "INFO:speechbrain.utils.quirks:Excluded quirks specified by the `SB_DISABLE_QUIRKS` environment (comma-separated list): []\r\n",
      "INFO:speechbrain.utils.quirks:Applied quirks (see `speechbrain.utils.quirks`): [allow_tf32, disable_jit_profiling]\r\n",
      "INFO:speechbrain.utils.quirks:Excluded quirks specified by the `SB_DISABLE_QUIRKS` environment (comma-separated list): []\r\n",
      "INFO:speechbrain.utils.quirks:Applied quirks (see `speechbrain.utils.quirks`): [disable_jit_profiling, allow_tf32]\r\n",
      "INFO:speechbrain.utils.quirks:Excluded quirks specified by the `SB_DISABLE_QUIRKS` environment (comma-separated list): []\r\n",
      "/Users/hienng/miniconda3/envs/tts/lib/python3.11/site-packages/pyannote/audio/pipelines/speaker_verification.py:43: UserWarning: Module 'speechbrain.pretrained' was deprecated, redirecting to 'speechbrain.inference'. Please update your script. This is a change from SpeechBrain 1.0. See: https://github.com/speechbrain/speechbrain/releases/tag/v1.0.0\r\n",
      "  from speechbrain.pretrained import (\r\n",
      "/Users/hienng/miniconda3/envs/tts/lib/python3.11/site-packages/pyannote/audio/pipelines/speaker_verification.py:43: UserWarning: Module 'speechbrain.pretrained' was deprecated, redirecting to 'speechbrain.inference'. Please update your script. This is a change from SpeechBrain 1.0. See: https://github.com/speechbrain/speechbrain/releases/tag/v1.0.0\r\n",
      "  from speechbrain.pretrained import (\r\n",
      "/Users/hienng/miniconda3/envs/tts/lib/python3.11/site-packages/pyannote/audio/pipelines/speaker_verification.py:43: UserWarning: Module 'speechbrain.pretrained' was deprecated, redirecting to 'speechbrain.inference'. Please update your script. This is a change from SpeechBrain 1.0. See: https://github.com/speechbrain/speechbrain/releases/tag/v1.0.0\r\n",
      "  from speechbrain.pretrained import (\r\n",
      "INFO:torchaudio.utils.download:Downloading models/squim_objective_dns2020.pth to /Users/hienng/.cache/torch/hub/torchaudio/models/squim_objective_dns2020.pth\r\n",
      "INFO:torchaudio.utils.download:Downloading models/squim_objective_dns2020.pth to /Users/hienng/.cache/torch/hub/torchaudio/models/squim_objective_dns2020.pth\r\n",
      "100%|██████████████████████████████████████| 28.2M/28.2M [00:04<00:00, 6.67MB/s]\r\n",
      "100%|██████████████████████████████████████| 28.2M/28.2M [00:05<00:00, 5.60MB/s]\r\n",
      "Map (num_proc=2):   0%|                        | 0/36422 [00:15<?, ? examples/s]\r\n",
      "multiprocess.pool.RemoteTraceback: \r\n",
      "\"\"\"\r\n",
      "Traceback (most recent call last):\r\n",
      "  File \"/Users/hienng/miniconda3/envs/tts/lib/python3.11/site-packages/multiprocess/pool.py\", line 125, in worker\r\n",
      "    result = (True, func(*args, **kwds))\r\n",
      "                    ^^^^^^^^^^^^^^^^^^^\r\n",
      "  File \"/Users/hienng/miniconda3/envs/tts/lib/python3.11/site-packages/datasets/utils/py_utils.py\", line 678, in _write_generator_to_queue\r\n",
      "    for i, result in enumerate(func(**kwargs)):\r\n",
      "  File \"/Users/hienng/miniconda3/envs/tts/lib/python3.11/site-packages/datasets/arrow_dataset.py\", line 3458, in _map_single\r\n",
      "    batch = apply_function_on_filtered_inputs(\r\n",
      "            ^^^^^^^^^^^^^^^^^^^^^^^^^^^^^^^^^^\r\n",
      "  File \"/Users/hienng/miniconda3/envs/tts/lib/python3.11/site-packages/datasets/arrow_dataset.py\", line 3320, in apply_function_on_filtered_inputs\r\n",
      "    processed_inputs = function(*fn_args, *additional_args, **fn_kwargs)\r\n",
      "                       ^^^^^^^^^^^^^^^^^^^^^^^^^^^^^^^^^^^^^^^^^^^^^^^^^\r\n",
      "  File \"/Users/hienng/projects/Studium/Masterthesis/datasets/dataspeech/dataspeech/gpu_enrichments/squim.py\", line 24, in squim_apply\r\n",
      "    waveform = torchaudio.functional.resample(torch.tensor(sample[\"array\"])[None, :].to(device).float(), sample[\"sampling_rate\"], SQUIM_OBJECTIVE.sample_rate)\r\n",
      "                                                           ~~~~~~^^^^^^^^^\r\n",
      "TypeError: string indices must be integers, not 'str'\r\n",
      "\"\"\"\r\n",
      "\r\n",
      "The above exception was the direct cause of the following exception:\r\n",
      "\r\n",
      "Traceback (most recent call last):\r\n",
      "  File \"/Users/hienng/projects/Studium/Masterthesis/datasets/dataspeech/main.py\", line 45, in <module>\r\n",
      "    squim_dataset = dataset.map(\r\n",
      "                    ^^^^^^^^^^^^\r\n",
      "  File \"/Users/hienng/miniconda3/envs/tts/lib/python3.11/site-packages/datasets/dataset_dict.py\", line 886, in map\r\n",
      "    {\r\n",
      "  File \"/Users/hienng/miniconda3/envs/tts/lib/python3.11/site-packages/datasets/dataset_dict.py\", line 887, in <dictcomp>\r\n",
      "    k: dataset.map(\r\n",
      "       ^^^^^^^^^^^^\r\n",
      "  File \"/Users/hienng/miniconda3/envs/tts/lib/python3.11/site-packages/datasets/arrow_dataset.py\", line 560, in wrapper\r\n",
      "    out: Union[\"Dataset\", \"DatasetDict\"] = func(self, *args, **kwargs)\r\n",
      "                                           ^^^^^^^^^^^^^^^^^^^^^^^^^^^\r\n",
      "  File \"/Users/hienng/miniconda3/envs/tts/lib/python3.11/site-packages/datasets/arrow_dataset.py\", line 3147, in map\r\n",
      "    for rank, done, content in iflatmap_unordered(\r\n",
      "  File \"/Users/hienng/miniconda3/envs/tts/lib/python3.11/site-packages/datasets/utils/py_utils.py\", line 718, in iflatmap_unordered\r\n",
      "    [async_result.get(timeout=0.05) for async_result in async_results]\r\n",
      "  File \"/Users/hienng/miniconda3/envs/tts/lib/python3.11/site-packages/datasets/utils/py_utils.py\", line 718, in <listcomp>\r\n",
      "    [async_result.get(timeout=0.05) for async_result in async_results]\r\n",
      "     ^^^^^^^^^^^^^^^^^^^^^^^^^^^^^^\r\n",
      "  File \"/Users/hienng/miniconda3/envs/tts/lib/python3.11/site-packages/multiprocess/pool.py\", line 774, in get\r\n",
      "    raise self._value\r\n",
      "TypeError: string indices must be integers, not 'str'\r\n",
      "/Users/hienng/miniconda3/envs/tts/lib/python3.11/multiprocessing/resource_tracker.py:254: UserWarning: resource_tracker: There appear to be 1 leaked semaphore objects to clean up at shutdown\r\n",
      "  warnings.warn('resource_tracker: There appear to be %d '\r\n",
      "/Users/hienng/miniconda3/envs/tts/lib/python3.11/multiprocessing/resource_tracker.py:254: UserWarning: resource_tracker: There appear to be 1 leaked semaphore objects to clean up at shutdown\r\n",
      "  warnings.warn('resource_tracker: There appear to be %d '\r\n"
     ]
    }
   ],
   "execution_count": 20
  },
  {
   "metadata": {
    "ExecuteTime": {
     "end_time": "2024-11-12T21:45:39.007385Z",
     "start_time": "2024-11-12T21:45:36.860749Z"
    }
   },
   "cell_type": "code",
   "source": "!pip install numpy==1.26.4",
   "id": "72b76e76388fe661",
   "outputs": [
    {
     "name": "stderr",
     "output_type": "stream",
     "text": [
      "python(40684) MallocStackLogging: can't turn off malloc stack logging because it was not enabled.\n"
     ]
    },
    {
     "name": "stdout",
     "output_type": "stream",
     "text": [
      "Requirement already satisfied: numpy==1.26.4 in /Users/hienng/miniconda3/envs/tts/lib/python3.11/site-packages (1.26.4)\r\n"
     ]
    }
   ],
   "execution_count": 18
  },
  {
   "metadata": {
    "ExecuteTime": {
     "end_time": "2024-11-12T21:45:42.925419Z",
     "start_time": "2024-11-12T21:45:42.425022Z"
    }
   },
   "cell_type": "code",
   "source": [
    "from datasets import load_dataset\n",
    "dataset = load_dataset(\"ylacombe/jenny-tts-6h\")"
   ],
   "id": "b5aee2eaf54de4b7",
   "outputs": [
    {
     "ename": "ValueError",
     "evalue": "numpy.dtype size changed, may indicate binary incompatibility. Expected 96 from C header, got 88 from PyObject",
     "output_type": "error",
     "traceback": [
      "\u001B[0;31m---------------------------------------------------------------------------\u001B[0m",
      "\u001B[0;31mValueError\u001B[0m                                Traceback (most recent call last)",
      "Cell \u001B[0;32mIn[19], line 1\u001B[0m\n\u001B[0;32m----> 1\u001B[0m \u001B[38;5;28;01mfrom\u001B[39;00m \u001B[38;5;21;01mdatasets\u001B[39;00m \u001B[38;5;28;01mimport\u001B[39;00m load_dataset\n\u001B[1;32m      2\u001B[0m dataset \u001B[38;5;241m=\u001B[39m load_dataset(\u001B[38;5;124m\"\u001B[39m\u001B[38;5;124mylacombe/jenny-tts-6h\u001B[39m\u001B[38;5;124m\"\u001B[39m)\n",
      "File \u001B[0;32m~/miniconda3/envs/tts/lib/python3.11/site-packages/datasets/__init__.py:17\u001B[0m\n\u001B[1;32m      1\u001B[0m \u001B[38;5;66;03m# Copyright 2020 The HuggingFace Datasets Authors and the TensorFlow Datasets Authors.\u001B[39;00m\n\u001B[1;32m      2\u001B[0m \u001B[38;5;66;03m#\u001B[39;00m\n\u001B[1;32m      3\u001B[0m \u001B[38;5;66;03m# Licensed under the Apache License, Version 2.0 (the \"License\");\u001B[39;00m\n\u001B[0;32m   (...)\u001B[0m\n\u001B[1;32m     12\u001B[0m \u001B[38;5;66;03m# See the License for the specific language governing permissions and\u001B[39;00m\n\u001B[1;32m     13\u001B[0m \u001B[38;5;66;03m# limitations under the License.\u001B[39;00m\n\u001B[1;32m     15\u001B[0m __version__ \u001B[38;5;241m=\u001B[39m \u001B[38;5;124m\"\u001B[39m\u001B[38;5;124m3.1.0\u001B[39m\u001B[38;5;124m\"\u001B[39m\n\u001B[0;32m---> 17\u001B[0m \u001B[38;5;28;01mfrom\u001B[39;00m \u001B[38;5;21;01m.\u001B[39;00m\u001B[38;5;21;01marrow_dataset\u001B[39;00m \u001B[38;5;28;01mimport\u001B[39;00m Dataset\n\u001B[1;32m     18\u001B[0m \u001B[38;5;28;01mfrom\u001B[39;00m \u001B[38;5;21;01m.\u001B[39;00m\u001B[38;5;21;01marrow_reader\u001B[39;00m \u001B[38;5;28;01mimport\u001B[39;00m ReadInstruction\n\u001B[1;32m     19\u001B[0m \u001B[38;5;28;01mfrom\u001B[39;00m \u001B[38;5;21;01m.\u001B[39;00m\u001B[38;5;21;01mbuilder\u001B[39;00m \u001B[38;5;28;01mimport\u001B[39;00m ArrowBasedBuilder, BuilderConfig, DatasetBuilder, GeneratorBasedBuilder\n",
      "File \u001B[0;32m~/miniconda3/envs/tts/lib/python3.11/site-packages/datasets/arrow_dataset.py:59\u001B[0m\n\u001B[1;32m     57\u001B[0m \u001B[38;5;28;01mimport\u001B[39;00m \u001B[38;5;21;01mfsspec\u001B[39;00m\n\u001B[1;32m     58\u001B[0m \u001B[38;5;28;01mimport\u001B[39;00m \u001B[38;5;21;01mnumpy\u001B[39;00m \u001B[38;5;28;01mas\u001B[39;00m \u001B[38;5;21;01mnp\u001B[39;00m\n\u001B[0;32m---> 59\u001B[0m \u001B[38;5;28;01mimport\u001B[39;00m \u001B[38;5;21;01mpandas\u001B[39;00m \u001B[38;5;28;01mas\u001B[39;00m \u001B[38;5;21;01mpd\u001B[39;00m\n\u001B[1;32m     60\u001B[0m \u001B[38;5;28;01mimport\u001B[39;00m \u001B[38;5;21;01mpyarrow\u001B[39;00m \u001B[38;5;28;01mas\u001B[39;00m \u001B[38;5;21;01mpa\u001B[39;00m\n\u001B[1;32m     61\u001B[0m \u001B[38;5;28;01mimport\u001B[39;00m \u001B[38;5;21;01mpyarrow\u001B[39;00m\u001B[38;5;21;01m.\u001B[39;00m\u001B[38;5;21;01mcompute\u001B[39;00m \u001B[38;5;28;01mas\u001B[39;00m \u001B[38;5;21;01mpc\u001B[39;00m\n",
      "File \u001B[0;32m~/miniconda3/envs/tts/lib/python3.11/site-packages/pandas/__init__.py:37\u001B[0m\n\u001B[1;32m     30\u001B[0m     _module \u001B[38;5;241m=\u001B[39m _err\u001B[38;5;241m.\u001B[39mname\n\u001B[1;32m     31\u001B[0m     \u001B[38;5;28;01mraise\u001B[39;00m \u001B[38;5;167;01mImportError\u001B[39;00m(\n\u001B[1;32m     32\u001B[0m         \u001B[38;5;124mf\u001B[39m\u001B[38;5;124m\"\u001B[39m\u001B[38;5;124mC extension: \u001B[39m\u001B[38;5;132;01m{\u001B[39;00m_module\u001B[38;5;132;01m}\u001B[39;00m\u001B[38;5;124m not built. If you want to import \u001B[39m\u001B[38;5;124m\"\u001B[39m\n\u001B[1;32m     33\u001B[0m         \u001B[38;5;124m\"\u001B[39m\u001B[38;5;124mpandas from the source directory, you may need to run \u001B[39m\u001B[38;5;124m\"\u001B[39m\n\u001B[1;32m     34\u001B[0m         \u001B[38;5;124m\"\u001B[39m\u001B[38;5;124m'\u001B[39m\u001B[38;5;124mpython setup.py build_ext\u001B[39m\u001B[38;5;124m'\u001B[39m\u001B[38;5;124m to build the C extensions first.\u001B[39m\u001B[38;5;124m\"\u001B[39m\n\u001B[1;32m     35\u001B[0m     ) \u001B[38;5;28;01mfrom\u001B[39;00m \u001B[38;5;21;01m_err\u001B[39;00m\n\u001B[0;32m---> 37\u001B[0m \u001B[38;5;28;01mfrom\u001B[39;00m \u001B[38;5;21;01mpandas\u001B[39;00m\u001B[38;5;21;01m.\u001B[39;00m\u001B[38;5;21;01m_config\u001B[39;00m \u001B[38;5;28;01mimport\u001B[39;00m (\n\u001B[1;32m     38\u001B[0m     get_option,\n\u001B[1;32m     39\u001B[0m     set_option,\n\u001B[1;32m     40\u001B[0m     reset_option,\n\u001B[1;32m     41\u001B[0m     describe_option,\n\u001B[1;32m     42\u001B[0m     option_context,\n\u001B[1;32m     43\u001B[0m     options,\n\u001B[1;32m     44\u001B[0m )\n\u001B[1;32m     46\u001B[0m \u001B[38;5;66;03m# let init-time option registration happen\u001B[39;00m\n\u001B[1;32m     47\u001B[0m \u001B[38;5;28;01mimport\u001B[39;00m \u001B[38;5;21;01mpandas\u001B[39;00m\u001B[38;5;21;01m.\u001B[39;00m\u001B[38;5;21;01mcore\u001B[39;00m\u001B[38;5;21;01m.\u001B[39;00m\u001B[38;5;21;01mconfig_init\u001B[39;00m  \u001B[38;5;66;03m# pyright: ignore[reportUnusedImport] # noqa: F401\u001B[39;00m\n",
      "File \u001B[0;32m~/miniconda3/envs/tts/lib/python3.11/site-packages/pandas/_config/__init__.py:20\u001B[0m\n\u001B[1;32m      1\u001B[0m \u001B[38;5;124;03m\"\"\"\u001B[39;00m\n\u001B[1;32m      2\u001B[0m \u001B[38;5;124;03mpandas._config is considered explicitly upstream of everything else in pandas,\u001B[39;00m\n\u001B[1;32m      3\u001B[0m \u001B[38;5;124;03mshould have no intra-pandas dependencies.\u001B[39;00m\n\u001B[0;32m   (...)\u001B[0m\n\u001B[1;32m      6\u001B[0m \u001B[38;5;124;03mare initialized.\u001B[39;00m\n\u001B[1;32m      7\u001B[0m \u001B[38;5;124;03m\"\"\"\u001B[39;00m\n\u001B[1;32m      8\u001B[0m __all__ \u001B[38;5;241m=\u001B[39m [\n\u001B[1;32m      9\u001B[0m     \u001B[38;5;124m\"\u001B[39m\u001B[38;5;124mconfig\u001B[39m\u001B[38;5;124m\"\u001B[39m,\n\u001B[1;32m     10\u001B[0m     \u001B[38;5;124m\"\u001B[39m\u001B[38;5;124mdetect_console_encoding\u001B[39m\u001B[38;5;124m\"\u001B[39m,\n\u001B[0;32m   (...)\u001B[0m\n\u001B[1;32m     18\u001B[0m     \u001B[38;5;124m\"\u001B[39m\u001B[38;5;124mwarn_copy_on_write\u001B[39m\u001B[38;5;124m\"\u001B[39m,\n\u001B[1;32m     19\u001B[0m ]\n\u001B[0;32m---> 20\u001B[0m \u001B[38;5;28;01mfrom\u001B[39;00m \u001B[38;5;21;01mpandas\u001B[39;00m\u001B[38;5;21;01m.\u001B[39;00m\u001B[38;5;21;01m_config\u001B[39;00m \u001B[38;5;28;01mimport\u001B[39;00m config\n\u001B[1;32m     21\u001B[0m \u001B[38;5;28;01mfrom\u001B[39;00m \u001B[38;5;21;01mpandas\u001B[39;00m\u001B[38;5;21;01m.\u001B[39;00m\u001B[38;5;21;01m_config\u001B[39;00m \u001B[38;5;28;01mimport\u001B[39;00m dates  \u001B[38;5;66;03m# pyright: ignore[reportUnusedImport]  # noqa: F401\u001B[39;00m\n\u001B[1;32m     22\u001B[0m \u001B[38;5;28;01mfrom\u001B[39;00m \u001B[38;5;21;01mpandas\u001B[39;00m\u001B[38;5;21;01m.\u001B[39;00m\u001B[38;5;21;01m_config\u001B[39;00m\u001B[38;5;21;01m.\u001B[39;00m\u001B[38;5;21;01mconfig\u001B[39;00m \u001B[38;5;28;01mimport\u001B[39;00m (\n\u001B[1;32m     23\u001B[0m     _global_config,\n\u001B[1;32m     24\u001B[0m     describe_option,\n\u001B[0;32m   (...)\u001B[0m\n\u001B[1;32m     29\u001B[0m     set_option,\n\u001B[1;32m     30\u001B[0m )\n",
      "File \u001B[0;32m~/miniconda3/envs/tts/lib/python3.11/site-packages/pandas/_config/config.py:68\u001B[0m\n\u001B[1;32m     58\u001B[0m \u001B[38;5;28;01mfrom\u001B[39;00m \u001B[38;5;21;01mtyping\u001B[39;00m \u001B[38;5;28;01mimport\u001B[39;00m (\n\u001B[1;32m     59\u001B[0m     TYPE_CHECKING,\n\u001B[1;32m     60\u001B[0m     Any,\n\u001B[0;32m   (...)\u001B[0m\n\u001B[1;32m     64\u001B[0m     cast,\n\u001B[1;32m     65\u001B[0m )\n\u001B[1;32m     66\u001B[0m \u001B[38;5;28;01mimport\u001B[39;00m \u001B[38;5;21;01mwarnings\u001B[39;00m\n\u001B[0;32m---> 68\u001B[0m \u001B[38;5;28;01mfrom\u001B[39;00m \u001B[38;5;21;01mpandas\u001B[39;00m\u001B[38;5;21;01m.\u001B[39;00m\u001B[38;5;21;01m_typing\u001B[39;00m \u001B[38;5;28;01mimport\u001B[39;00m (\n\u001B[1;32m     69\u001B[0m     F,\n\u001B[1;32m     70\u001B[0m     T,\n\u001B[1;32m     71\u001B[0m )\n\u001B[1;32m     72\u001B[0m \u001B[38;5;28;01mfrom\u001B[39;00m \u001B[38;5;21;01mpandas\u001B[39;00m\u001B[38;5;21;01m.\u001B[39;00m\u001B[38;5;21;01mutil\u001B[39;00m\u001B[38;5;21;01m.\u001B[39;00m\u001B[38;5;21;01m_exceptions\u001B[39;00m \u001B[38;5;28;01mimport\u001B[39;00m find_stack_level\n\u001B[1;32m     74\u001B[0m \u001B[38;5;28;01mif\u001B[39;00m TYPE_CHECKING:\n",
      "File \u001B[0;32m~/miniconda3/envs/tts/lib/python3.11/site-packages/pandas/_typing.py:198\u001B[0m\n\u001B[1;32m    192\u001B[0m Frequency \u001B[38;5;241m=\u001B[39m Union[\u001B[38;5;28mstr\u001B[39m, \u001B[38;5;124m\"\u001B[39m\u001B[38;5;124mBaseOffset\u001B[39m\u001B[38;5;124m\"\u001B[39m]\n\u001B[1;32m    193\u001B[0m Axes \u001B[38;5;241m=\u001B[39m ListLike\n\u001B[1;32m    195\u001B[0m RandomState \u001B[38;5;241m=\u001B[39m Union[\n\u001B[1;32m    196\u001B[0m     \u001B[38;5;28mint\u001B[39m,\n\u001B[1;32m    197\u001B[0m     np\u001B[38;5;241m.\u001B[39mndarray,\n\u001B[0;32m--> 198\u001B[0m     np\u001B[38;5;241m.\u001B[39mrandom\u001B[38;5;241m.\u001B[39mGenerator,\n\u001B[1;32m    199\u001B[0m     np\u001B[38;5;241m.\u001B[39mrandom\u001B[38;5;241m.\u001B[39mBitGenerator,\n\u001B[1;32m    200\u001B[0m     np\u001B[38;5;241m.\u001B[39mrandom\u001B[38;5;241m.\u001B[39mRandomState,\n\u001B[1;32m    201\u001B[0m ]\n\u001B[1;32m    203\u001B[0m \u001B[38;5;66;03m# dtypes\u001B[39;00m\n\u001B[1;32m    204\u001B[0m NpDtype \u001B[38;5;241m=\u001B[39m Union[\u001B[38;5;28mstr\u001B[39m, np\u001B[38;5;241m.\u001B[39mdtype, type_t[Union[\u001B[38;5;28mstr\u001B[39m, \u001B[38;5;28mcomplex\u001B[39m, \u001B[38;5;28mbool\u001B[39m, \u001B[38;5;28mobject\u001B[39m]]]\n",
      "File \u001B[0;32m~/miniconda3/envs/tts/lib/python3.11/site-packages/numpy/__init__.py:337\u001B[0m, in \u001B[0;36m__getattr__\u001B[0;34m(attr)\u001B[0m\n\u001B[1;32m    336\u001B[0m \u001B[38;5;28;01mdef\u001B[39;00m \u001B[38;5;21m__dir__\u001B[39m():\n\u001B[0;32m--> 337\u001B[0m     public_symbols \u001B[38;5;241m=\u001B[39m \u001B[38;5;28mglobals\u001B[39m()\u001B[38;5;241m.\u001B[39mkeys() \u001B[38;5;241m|\u001B[39m {\u001B[38;5;124m'\u001B[39m\u001B[38;5;124mtesting\u001B[39m\u001B[38;5;124m'\u001B[39m}\n\u001B[1;32m    338\u001B[0m     public_symbols \u001B[38;5;241m-\u001B[39m\u001B[38;5;241m=\u001B[39m {\n\u001B[1;32m    339\u001B[0m         \u001B[38;5;124m\"\u001B[39m\u001B[38;5;124mcore\u001B[39m\u001B[38;5;124m\"\u001B[39m, \u001B[38;5;124m\"\u001B[39m\u001B[38;5;124mmatrixlib\u001B[39m\u001B[38;5;124m\"\u001B[39m,\n\u001B[1;32m    340\u001B[0m         \u001B[38;5;66;03m# These were moved in 1.25 and may be deprecated eventually:\u001B[39;00m\n\u001B[1;32m    341\u001B[0m         \u001B[38;5;124m\"\u001B[39m\u001B[38;5;124mModuleDeprecationWarning\u001B[39m\u001B[38;5;124m\"\u001B[39m, \u001B[38;5;124m\"\u001B[39m\u001B[38;5;124mVisibleDeprecationWarning\u001B[39m\u001B[38;5;124m\"\u001B[39m,\n\u001B[1;32m    342\u001B[0m         \u001B[38;5;124m\"\u001B[39m\u001B[38;5;124mComplexWarning\u001B[39m\u001B[38;5;124m\"\u001B[39m, \u001B[38;5;124m\"\u001B[39m\u001B[38;5;124mTooHardError\u001B[39m\u001B[38;5;124m\"\u001B[39m, \u001B[38;5;124m\"\u001B[39m\u001B[38;5;124mAxisError\u001B[39m\u001B[38;5;124m\"\u001B[39m\n\u001B[1;32m    343\u001B[0m     }\n\u001B[1;32m    344\u001B[0m     \u001B[38;5;28;01mreturn\u001B[39;00m \u001B[38;5;28mlist\u001B[39m(public_symbols)\n",
      "File \u001B[0;32m~/miniconda3/envs/tts/lib/python3.11/site-packages/numpy/random/__init__.py:180\u001B[0m\n\u001B[1;32m    126\u001B[0m __all__ \u001B[38;5;241m=\u001B[39m [\n\u001B[1;32m    127\u001B[0m     \u001B[38;5;124m'\u001B[39m\u001B[38;5;124mbeta\u001B[39m\u001B[38;5;124m'\u001B[39m,\n\u001B[1;32m    128\u001B[0m     \u001B[38;5;124m'\u001B[39m\u001B[38;5;124mbinomial\u001B[39m\u001B[38;5;124m'\u001B[39m,\n\u001B[0;32m   (...)\u001B[0m\n\u001B[1;32m    176\u001B[0m     \u001B[38;5;124m'\u001B[39m\u001B[38;5;124mzipf\u001B[39m\u001B[38;5;124m'\u001B[39m,\n\u001B[1;32m    177\u001B[0m ]\n\u001B[1;32m    179\u001B[0m \u001B[38;5;66;03m# add these for module-freeze analysis (like PyInstaller)\u001B[39;00m\n\u001B[0;32m--> 180\u001B[0m \u001B[38;5;28;01mfrom\u001B[39;00m \u001B[38;5;21;01m.\u001B[39;00m \u001B[38;5;28;01mimport\u001B[39;00m _pickle\n\u001B[1;32m    181\u001B[0m \u001B[38;5;28;01mfrom\u001B[39;00m \u001B[38;5;21;01m.\u001B[39;00m \u001B[38;5;28;01mimport\u001B[39;00m _common\n\u001B[1;32m    182\u001B[0m \u001B[38;5;28;01mfrom\u001B[39;00m \u001B[38;5;21;01m.\u001B[39;00m \u001B[38;5;28;01mimport\u001B[39;00m _bounded_integers\n",
      "File \u001B[0;32m~/miniconda3/envs/tts/lib/python3.11/site-packages/numpy/random/_pickle.py:1\u001B[0m\n\u001B[0;32m----> 1\u001B[0m \u001B[38;5;28;01mfrom\u001B[39;00m \u001B[38;5;21;01m.\u001B[39;00m\u001B[38;5;21;01mmtrand\u001B[39;00m \u001B[38;5;28;01mimport\u001B[39;00m RandomState\n\u001B[1;32m      2\u001B[0m \u001B[38;5;28;01mfrom\u001B[39;00m \u001B[38;5;21;01m.\u001B[39;00m\u001B[38;5;21;01m_philox\u001B[39;00m \u001B[38;5;28;01mimport\u001B[39;00m Philox\n\u001B[1;32m      3\u001B[0m \u001B[38;5;28;01mfrom\u001B[39;00m \u001B[38;5;21;01m.\u001B[39;00m\u001B[38;5;21;01m_pcg64\u001B[39;00m \u001B[38;5;28;01mimport\u001B[39;00m PCG64, PCG64DXSM\n",
      "File \u001B[0;32mnumpy/random/mtrand.pyx:1\u001B[0m, in \u001B[0;36minit numpy.random.mtrand\u001B[0;34m()\u001B[0m\n",
      "\u001B[0;31mValueError\u001B[0m: numpy.dtype size changed, may indicate binary incompatibility. Expected 96 from C header, got 88 from PyObject"
     ]
    }
   ],
   "execution_count": 19
  }
 ],
 "metadata": {
  "kernelspec": {
   "display_name": "Python 3",
   "language": "python",
   "name": "python3"
  },
  "language_info": {
   "codemirror_mode": {
    "name": "ipython",
    "version": 2
   },
   "file_extension": ".py",
   "mimetype": "text/x-python",
   "name": "python",
   "nbconvert_exporter": "python",
   "pygments_lexer": "ipython2",
   "version": "2.7.6"
  }
 },
 "nbformat": 4,
 "nbformat_minor": 5
}
